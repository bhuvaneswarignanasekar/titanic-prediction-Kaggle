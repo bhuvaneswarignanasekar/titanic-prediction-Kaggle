{
 "cells": [
  {
   "cell_type": "code",
   "execution_count": 1,
   "id": "50c7d847",
   "metadata": {
    "_cell_guid": "b1076dfc-b9ad-4769-8c92-a6c4dae69d19",
    "_uuid": "8f2839f25d086af736a60e9eeb907d3b93b6e0e5",
    "execution": {
     "iopub.execute_input": "2022-03-25T15:48:57.450766Z",
     "iopub.status.busy": "2022-03-25T15:48:57.449726Z",
     "iopub.status.idle": "2022-03-25T15:48:57.461241Z",
     "shell.execute_reply": "2022-03-25T15:48:57.460158Z",
     "shell.execute_reply.started": "2022-03-25T15:14:17.437693Z"
    },
    "papermill": {
     "duration": 0.034664,
     "end_time": "2022-03-25T15:48:57.461468",
     "exception": false,
     "start_time": "2022-03-25T15:48:57.426804",
     "status": "completed"
    },
    "tags": []
   },
   "outputs": [
    {
     "name": "stdout",
     "output_type": "stream",
     "text": [
      "/kaggle/input/titanic/train.csv\n",
      "/kaggle/input/titanic/test.csv\n",
      "/kaggle/input/titanic/gender_submission.csv\n"
     ]
    }
   ],
   "source": [
    "# This Python 3 environment comes with many helpful analytics libraries installed\n",
    "# It is defined by the kaggle/python Docker image: https://github.com/kaggle/docker-python\n",
    "# For example, here's several helpful packages to load\n",
    "\n",
    "import numpy as np # linear algebra\n",
    "import pandas as pd # data processing, CSV file I/O (e.g. pd.read_csv)\n",
    "\n",
    "# Input data files are available in the read-only \"../input/\" directory\n",
    "# For example, running this (by clicking run or pressing Shift+Enter) will list all files under the input directory\n",
    "\n",
    "import os\n",
    "for dirname, _, filenames in os.walk('/kaggle/input'):\n",
    "    for filename in filenames:\n",
    "        print(os.path.join(dirname, filename))\n",
    "\n",
    "# You can write up to 20GB to the current directory (/kaggle/working/) that gets preserved as output when you create a version using \"Save & Run All\" \n",
    "# You can also write temporary files to /kaggle/temp/, but they won't be saved outside of the current session"
   ]
  },
  {
   "cell_type": "code",
   "execution_count": 2,
   "id": "15584fc4",
   "metadata": {
    "execution": {
     "iopub.execute_input": "2022-03-25T15:48:57.511570Z",
     "iopub.status.busy": "2022-03-25T15:48:57.510431Z",
     "iopub.status.idle": "2022-03-25T15:49:09.466151Z",
     "shell.execute_reply": "2022-03-25T15:49:09.466631Z"
    },
    "papermill": {
     "duration": 11.985231,
     "end_time": "2022-03-25T15:49:09.466813",
     "exception": false,
     "start_time": "2022-03-25T15:48:57.481582",
     "status": "completed"
    },
    "tags": []
   },
   "outputs": [
    {
     "name": "stdout",
     "output_type": "stream",
     "text": [
      "Collecting pydotplus\r\n",
      "  Downloading pydotplus-2.0.2.tar.gz (278 kB)\r\n",
      "     |████████████████████████████████| 278 kB 5.0 MB/s            \r\n",
      "\u001b[?25h  Preparing metadata (setup.py) ... \u001b[?25l-\b \bdone\r\n",
      "\u001b[?25hRequirement already satisfied: pyparsing>=2.0.1 in /opt/conda/lib/python3.7/site-packages (from pydotplus) (3.0.6)\r\n",
      "Building wheels for collected packages: pydotplus\r\n",
      "  Building wheel for pydotplus (setup.py) ... \u001b[?25l-\b \b\\\b \bdone\r\n",
      "\u001b[?25h  Created wheel for pydotplus: filename=pydotplus-2.0.2-py3-none-any.whl size=24575 sha256=6c469680c5a5fa87c9687cfe528dff6da1446cae0e1c55c9b503d4650b9be150\r\n",
      "  Stored in directory: /root/.cache/pip/wheels/1e/7b/04/7387cf6cc9e48b4a96e361b0be812f0708b394b821bf8c9c50\r\n",
      "Successfully built pydotplus\r\n",
      "Installing collected packages: pydotplus\r\n",
      "Successfully installed pydotplus-2.0.2\r\n",
      "\u001b[33mWARNING: Running pip as the 'root' user can result in broken permissions and conflicting behaviour with the system package manager. It is recommended to use a virtual environment instead: https://pip.pypa.io/warnings/venv\u001b[0m\r\n"
     ]
    }
   ],
   "source": [
    "!pip install pydotplus\n",
    "from sklearn.model_selection import train_test_split\n",
    "import sklearn\n",
    "from sklearn import tree\n",
    "import pydotplus \n",
    "import collections \n",
    "from sklearn.preprocessing import MinMaxScaler\n",
    "from sklearn.metrics import accuracy_score"
   ]
  },
  {
   "cell_type": "code",
   "execution_count": 3,
   "id": "623b12f7",
   "metadata": {
    "execution": {
     "iopub.execute_input": "2022-03-25T15:49:09.515203Z",
     "iopub.status.busy": "2022-03-25T15:49:09.514549Z",
     "iopub.status.idle": "2022-03-25T15:49:09.532900Z",
     "shell.execute_reply": "2022-03-25T15:49:09.532408Z",
     "shell.execute_reply.started": "2022-03-25T15:14:17.465552Z"
    },
    "papermill": {
     "duration": 0.044435,
     "end_time": "2022-03-25T15:49:09.533048",
     "exception": false,
     "start_time": "2022-03-25T15:49:09.488613",
     "status": "completed"
    },
    "tags": []
   },
   "outputs": [],
   "source": [
    "df=pd.read_csv('/kaggle/input/titanic/train.csv')"
   ]
  },
  {
   "cell_type": "code",
   "execution_count": 4,
   "id": "1d8dd632",
   "metadata": {
    "execution": {
     "iopub.execute_input": "2022-03-25T15:49:09.581136Z",
     "iopub.status.busy": "2022-03-25T15:49:09.580514Z",
     "iopub.status.idle": "2022-03-25T15:49:09.609187Z",
     "shell.execute_reply": "2022-03-25T15:49:09.608679Z",
     "shell.execute_reply.started": "2022-03-25T15:14:17.485512Z"
    },
    "papermill": {
     "duration": 0.055455,
     "end_time": "2022-03-25T15:49:09.609326",
     "exception": false,
     "start_time": "2022-03-25T15:49:09.553871",
     "status": "completed"
    },
    "tags": []
   },
   "outputs": [
    {
     "name": "stdout",
     "output_type": "stream",
     "text": [
      "Index(['PassengerId', 'Survived', 'Pclass', 'Name', 'Sex', 'Age', 'SibSp',\n",
      "       'Parch', 'Ticket', 'Fare', 'Cabin', 'Embarked'],\n",
      "      dtype='object')\n",
      "   PassengerId  Survived  Pclass  \\\n",
      "0            1         0       3   \n",
      "1            2         1       1   \n",
      "2            3         1       3   \n",
      "3            4         1       1   \n",
      "4            5         0       3   \n",
      "\n",
      "                                                Name     Sex   Age  SibSp  \\\n",
      "0                            Braund, Mr. Owen Harris    male  22.0      1   \n",
      "1  Cumings, Mrs. John Bradley (Florence Briggs Th...  female  38.0      1   \n",
      "2                             Heikkinen, Miss. Laina  female  26.0      0   \n",
      "3       Futrelle, Mrs. Jacques Heath (Lily May Peel)  female  35.0      1   \n",
      "4                           Allen, Mr. William Henry    male  35.0      0   \n",
      "\n",
      "   Parch            Ticket     Fare Cabin Embarked  \n",
      "0      0         A/5 21171   7.2500   NaN        S  \n",
      "1      0          PC 17599  71.2833   C85        C  \n",
      "2      0  STON/O2. 3101282   7.9250   NaN        S  \n",
      "3      0            113803  53.1000  C123        S  \n",
      "4      0            373450   8.0500   NaN        S  \n"
     ]
    },
    {
     "data": {
      "text/html": [
       "<div>\n",
       "<style scoped>\n",
       "    .dataframe tbody tr th:only-of-type {\n",
       "        vertical-align: middle;\n",
       "    }\n",
       "\n",
       "    .dataframe tbody tr th {\n",
       "        vertical-align: top;\n",
       "    }\n",
       "\n",
       "    .dataframe thead th {\n",
       "        text-align: right;\n",
       "    }\n",
       "</style>\n",
       "<table border=\"1\" class=\"dataframe\">\n",
       "  <thead>\n",
       "    <tr style=\"text-align: right;\">\n",
       "      <th></th>\n",
       "      <th>PassengerId</th>\n",
       "      <th>Survived</th>\n",
       "      <th>Pclass</th>\n",
       "      <th>Age</th>\n",
       "      <th>SibSp</th>\n",
       "      <th>Parch</th>\n",
       "      <th>Fare</th>\n",
       "    </tr>\n",
       "  </thead>\n",
       "  <tbody>\n",
       "    <tr>\n",
       "      <th>PassengerId</th>\n",
       "      <td>1.000000</td>\n",
       "      <td>-0.005007</td>\n",
       "      <td>-0.035144</td>\n",
       "      <td>0.036847</td>\n",
       "      <td>-0.057527</td>\n",
       "      <td>-0.001652</td>\n",
       "      <td>0.012658</td>\n",
       "    </tr>\n",
       "    <tr>\n",
       "      <th>Survived</th>\n",
       "      <td>-0.005007</td>\n",
       "      <td>1.000000</td>\n",
       "      <td>-0.338481</td>\n",
       "      <td>-0.077221</td>\n",
       "      <td>-0.035322</td>\n",
       "      <td>0.081629</td>\n",
       "      <td>0.257307</td>\n",
       "    </tr>\n",
       "    <tr>\n",
       "      <th>Pclass</th>\n",
       "      <td>-0.035144</td>\n",
       "      <td>-0.338481</td>\n",
       "      <td>1.000000</td>\n",
       "      <td>-0.369226</td>\n",
       "      <td>0.083081</td>\n",
       "      <td>0.018443</td>\n",
       "      <td>-0.549500</td>\n",
       "    </tr>\n",
       "    <tr>\n",
       "      <th>Age</th>\n",
       "      <td>0.036847</td>\n",
       "      <td>-0.077221</td>\n",
       "      <td>-0.369226</td>\n",
       "      <td>1.000000</td>\n",
       "      <td>-0.308247</td>\n",
       "      <td>-0.189119</td>\n",
       "      <td>0.096067</td>\n",
       "    </tr>\n",
       "    <tr>\n",
       "      <th>SibSp</th>\n",
       "      <td>-0.057527</td>\n",
       "      <td>-0.035322</td>\n",
       "      <td>0.083081</td>\n",
       "      <td>-0.308247</td>\n",
       "      <td>1.000000</td>\n",
       "      <td>0.414838</td>\n",
       "      <td>0.159651</td>\n",
       "    </tr>\n",
       "    <tr>\n",
       "      <th>Parch</th>\n",
       "      <td>-0.001652</td>\n",
       "      <td>0.081629</td>\n",
       "      <td>0.018443</td>\n",
       "      <td>-0.189119</td>\n",
       "      <td>0.414838</td>\n",
       "      <td>1.000000</td>\n",
       "      <td>0.216225</td>\n",
       "    </tr>\n",
       "    <tr>\n",
       "      <th>Fare</th>\n",
       "      <td>0.012658</td>\n",
       "      <td>0.257307</td>\n",
       "      <td>-0.549500</td>\n",
       "      <td>0.096067</td>\n",
       "      <td>0.159651</td>\n",
       "      <td>0.216225</td>\n",
       "      <td>1.000000</td>\n",
       "    </tr>\n",
       "  </tbody>\n",
       "</table>\n",
       "</div>"
      ],
      "text/plain": [
       "             PassengerId  Survived    Pclass       Age     SibSp     Parch  \\\n",
       "PassengerId     1.000000 -0.005007 -0.035144  0.036847 -0.057527 -0.001652   \n",
       "Survived       -0.005007  1.000000 -0.338481 -0.077221 -0.035322  0.081629   \n",
       "Pclass         -0.035144 -0.338481  1.000000 -0.369226  0.083081  0.018443   \n",
       "Age             0.036847 -0.077221 -0.369226  1.000000 -0.308247 -0.189119   \n",
       "SibSp          -0.057527 -0.035322  0.083081 -0.308247  1.000000  0.414838   \n",
       "Parch          -0.001652  0.081629  0.018443 -0.189119  0.414838  1.000000   \n",
       "Fare            0.012658  0.257307 -0.549500  0.096067  0.159651  0.216225   \n",
       "\n",
       "                 Fare  \n",
       "PassengerId  0.012658  \n",
       "Survived     0.257307  \n",
       "Pclass      -0.549500  \n",
       "Age          0.096067  \n",
       "SibSp        0.159651  \n",
       "Parch        0.216225  \n",
       "Fare         1.000000  "
      ]
     },
     "execution_count": 4,
     "metadata": {},
     "output_type": "execute_result"
    }
   ],
   "source": [
    "print(df.columns)\n",
    "print(df.head())\n",
    "df.corr()"
   ]
  },
  {
   "cell_type": "markdown",
   "id": "4d4acb80",
   "metadata": {
    "papermill": {
     "duration": 0.021526,
     "end_time": "2022-03-25T15:49:09.653256",
     "exception": false,
     "start_time": "2022-03-25T15:49:09.631730",
     "status": "completed"
    },
    "tags": []
   },
   "source": [
    "#from the correlation table it can be observed that -> Passanger class and fare are strongly correlated and are main predictor\n",
    "-> Age and having parents or children on board is a predictor as well\n",
    "-> Having sibling on board"
   ]
  },
  {
   "cell_type": "code",
   "execution_count": 5,
   "id": "abdef238",
   "metadata": {
    "execution": {
     "iopub.execute_input": "2022-03-25T15:49:09.699240Z",
     "iopub.status.busy": "2022-03-25T15:49:09.698660Z",
     "iopub.status.idle": "2022-03-25T15:49:09.735955Z",
     "shell.execute_reply": "2022-03-25T15:49:09.735516Z",
     "shell.execute_reply.started": "2022-03-25T15:15:15.083217Z"
    },
    "papermill": {
     "duration": 0.061397,
     "end_time": "2022-03-25T15:49:09.736105",
     "exception": false,
     "start_time": "2022-03-25T15:49:09.674708",
     "status": "completed"
    },
    "tags": []
   },
   "outputs": [
    {
     "name": "stdout",
     "output_type": "stream",
     "text": [
      "(891, 12)\n"
     ]
    },
    {
     "data": {
      "text/html": [
       "<div>\n",
       "<style scoped>\n",
       "    .dataframe tbody tr th:only-of-type {\n",
       "        vertical-align: middle;\n",
       "    }\n",
       "\n",
       "    .dataframe tbody tr th {\n",
       "        vertical-align: top;\n",
       "    }\n",
       "\n",
       "    .dataframe thead th {\n",
       "        text-align: right;\n",
       "    }\n",
       "</style>\n",
       "<table border=\"1\" class=\"dataframe\">\n",
       "  <thead>\n",
       "    <tr style=\"text-align: right;\">\n",
       "      <th></th>\n",
       "      <th>PassengerId</th>\n",
       "      <th>Survived</th>\n",
       "      <th>Pclass</th>\n",
       "      <th>Age</th>\n",
       "      <th>SibSp</th>\n",
       "      <th>Parch</th>\n",
       "      <th>Fare</th>\n",
       "    </tr>\n",
       "  </thead>\n",
       "  <tbody>\n",
       "    <tr>\n",
       "      <th>count</th>\n",
       "      <td>891.000000</td>\n",
       "      <td>891.000000</td>\n",
       "      <td>891.000000</td>\n",
       "      <td>714.000000</td>\n",
       "      <td>891.000000</td>\n",
       "      <td>891.000000</td>\n",
       "      <td>891.000000</td>\n",
       "    </tr>\n",
       "    <tr>\n",
       "      <th>mean</th>\n",
       "      <td>446.000000</td>\n",
       "      <td>0.383838</td>\n",
       "      <td>2.308642</td>\n",
       "      <td>29.699118</td>\n",
       "      <td>0.523008</td>\n",
       "      <td>0.381594</td>\n",
       "      <td>32.204208</td>\n",
       "    </tr>\n",
       "    <tr>\n",
       "      <th>std</th>\n",
       "      <td>257.353842</td>\n",
       "      <td>0.486592</td>\n",
       "      <td>0.836071</td>\n",
       "      <td>14.526497</td>\n",
       "      <td>1.102743</td>\n",
       "      <td>0.806057</td>\n",
       "      <td>49.693429</td>\n",
       "    </tr>\n",
       "    <tr>\n",
       "      <th>min</th>\n",
       "      <td>1.000000</td>\n",
       "      <td>0.000000</td>\n",
       "      <td>1.000000</td>\n",
       "      <td>0.420000</td>\n",
       "      <td>0.000000</td>\n",
       "      <td>0.000000</td>\n",
       "      <td>0.000000</td>\n",
       "    </tr>\n",
       "    <tr>\n",
       "      <th>25%</th>\n",
       "      <td>223.500000</td>\n",
       "      <td>0.000000</td>\n",
       "      <td>2.000000</td>\n",
       "      <td>20.125000</td>\n",
       "      <td>0.000000</td>\n",
       "      <td>0.000000</td>\n",
       "      <td>7.910400</td>\n",
       "    </tr>\n",
       "    <tr>\n",
       "      <th>50%</th>\n",
       "      <td>446.000000</td>\n",
       "      <td>0.000000</td>\n",
       "      <td>3.000000</td>\n",
       "      <td>28.000000</td>\n",
       "      <td>0.000000</td>\n",
       "      <td>0.000000</td>\n",
       "      <td>14.454200</td>\n",
       "    </tr>\n",
       "    <tr>\n",
       "      <th>75%</th>\n",
       "      <td>668.500000</td>\n",
       "      <td>1.000000</td>\n",
       "      <td>3.000000</td>\n",
       "      <td>38.000000</td>\n",
       "      <td>1.000000</td>\n",
       "      <td>0.000000</td>\n",
       "      <td>31.000000</td>\n",
       "    </tr>\n",
       "    <tr>\n",
       "      <th>max</th>\n",
       "      <td>891.000000</td>\n",
       "      <td>1.000000</td>\n",
       "      <td>3.000000</td>\n",
       "      <td>80.000000</td>\n",
       "      <td>8.000000</td>\n",
       "      <td>6.000000</td>\n",
       "      <td>512.329200</td>\n",
       "    </tr>\n",
       "  </tbody>\n",
       "</table>\n",
       "</div>"
      ],
      "text/plain": [
       "       PassengerId    Survived      Pclass         Age       SibSp  \\\n",
       "count   891.000000  891.000000  891.000000  714.000000  891.000000   \n",
       "mean    446.000000    0.383838    2.308642   29.699118    0.523008   \n",
       "std     257.353842    0.486592    0.836071   14.526497    1.102743   \n",
       "min       1.000000    0.000000    1.000000    0.420000    0.000000   \n",
       "25%     223.500000    0.000000    2.000000   20.125000    0.000000   \n",
       "50%     446.000000    0.000000    3.000000   28.000000    0.000000   \n",
       "75%     668.500000    1.000000    3.000000   38.000000    1.000000   \n",
       "max     891.000000    1.000000    3.000000   80.000000    8.000000   \n",
       "\n",
       "            Parch        Fare  \n",
       "count  891.000000  891.000000  \n",
       "mean     0.381594   32.204208  \n",
       "std      0.806057   49.693429  \n",
       "min      0.000000    0.000000  \n",
       "25%      0.000000    7.910400  \n",
       "50%      0.000000   14.454200  \n",
       "75%      0.000000   31.000000  \n",
       "max      6.000000  512.329200  "
      ]
     },
     "execution_count": 5,
     "metadata": {},
     "output_type": "execute_result"
    }
   ],
   "source": [
    "print(df.shape)\n",
    "df.describe()"
   ]
  },
  {
   "cell_type": "code",
   "execution_count": 6,
   "id": "f590340d",
   "metadata": {
    "execution": {
     "iopub.execute_input": "2022-03-25T15:49:09.784585Z",
     "iopub.status.busy": "2022-03-25T15:49:09.783981Z",
     "iopub.status.idle": "2022-03-25T15:49:09.793729Z",
     "shell.execute_reply": "2022-03-25T15:49:09.793266Z",
     "shell.execute_reply.started": "2022-03-25T15:15:10.899754Z"
    },
    "papermill": {
     "duration": 0.035387,
     "end_time": "2022-03-25T15:49:09.793858",
     "exception": false,
     "start_time": "2022-03-25T15:49:09.758471",
     "status": "completed"
    },
    "tags": []
   },
   "outputs": [
    {
     "name": "stdout",
     "output_type": "stream",
     "text": [
      "unique of ticket column 681\n",
      "['S' 'C' 'Q' nan]\n",
      "4\n"
     ]
    },
    {
     "data": {
      "text/plain": [
       "2"
      ]
     },
     "execution_count": 6,
     "metadata": {},
     "output_type": "execute_result"
    }
   ],
   "source": [
    "print(\"unique of ticket column\",len(df['Ticket'].unique()))\n",
    "print(df['Embarked'].unique())\n",
    "print(len(df['Embarked'].unique()))\n",
    "df['Embarked'].isnull().sum()"
   ]
  },
  {
   "cell_type": "code",
   "execution_count": 7,
   "id": "4f21d351",
   "metadata": {
    "execution": {
     "iopub.execute_input": "2022-03-25T15:49:09.845314Z",
     "iopub.status.busy": "2022-03-25T15:49:09.844690Z",
     "iopub.status.idle": "2022-03-25T15:49:10.301340Z",
     "shell.execute_reply": "2022-03-25T15:49:10.300727Z",
     "shell.execute_reply.started": "2022-03-25T15:15:21.295995Z"
    },
    "papermill": {
     "duration": 0.484622,
     "end_time": "2022-03-25T15:49:10.301487",
     "exception": false,
     "start_time": "2022-03-25T15:49:09.816865",
     "status": "completed"
    },
    "tags": []
   },
   "outputs": [
    {
     "data": {
      "image/png": "[encoded data removed]",
      "text/plain": [
       "<Figure size 432x288 with 1 Axes>"
      ]
     },
     "metadata": {
      "needs_background": "light"
     },
     "output_type": "display_data"
    }
   ],
   "source": [
    "import seaborn as sns\n",
    "df['Embarked']=pd.factorize(df['Embarked'])[0]\n",
    "#sns.catplot(x='Survived',y='Embarked',data=df)\n",
    "sns.barplot(x='Embarked',y='Survived',data=df)\n",
    "df.Embarked.fillna(0,inplace=True)"
   ]
  },
  {
   "cell_type": "code",
   "execution_count": 8,
   "id": "e1ddfb6f",
   "metadata": {
    "execution": {
     "iopub.execute_input": "2022-03-25T15:49:10.355984Z",
     "iopub.status.busy": "2022-03-25T15:49:10.355365Z",
     "iopub.status.idle": "2022-03-25T15:49:10.371123Z",
     "shell.execute_reply": "2022-03-25T15:49:10.370628Z",
     "shell.execute_reply.started": "2022-03-25T15:15:26.516579Z"
    },
    "papermill": {
     "duration": 0.045865,
     "end_time": "2022-03-25T15:49:10.371258",
     "exception": false,
     "start_time": "2022-03-25T15:49:10.325393",
     "status": "completed"
    },
    "tags": []
   },
   "outputs": [
    {
     "data": {
      "text/html": [
       "<div>\n",
       "<style scoped>\n",
       "    .dataframe tbody tr th:only-of-type {\n",
       "        vertical-align: middle;\n",
       "    }\n",
       "\n",
       "    .dataframe tbody tr th {\n",
       "        vertical-align: top;\n",
       "    }\n",
       "\n",
       "    .dataframe thead th {\n",
       "        text-align: right;\n",
       "    }\n",
       "</style>\n",
       "<table border=\"1\" class=\"dataframe\">\n",
       "  <thead>\n",
       "    <tr style=\"text-align: right;\">\n",
       "      <th></th>\n",
       "      <th>PassengerId</th>\n",
       "      <th>Survived</th>\n",
       "      <th>Pclass</th>\n",
       "      <th>Sex</th>\n",
       "      <th>Age</th>\n",
       "      <th>SibSp</th>\n",
       "      <th>Parch</th>\n",
       "      <th>Fare</th>\n",
       "      <th>Embarked</th>\n",
       "    </tr>\n",
       "  </thead>\n",
       "  <tbody>\n",
       "    <tr>\n",
       "      <th>PassengerId</th>\n",
       "      <td>1.000000</td>\n",
       "      <td>-0.005007</td>\n",
       "      <td>-0.035144</td>\n",
       "      <td>-0.042939</td>\n",
       "      <td>0.036847</td>\n",
       "      <td>-0.057527</td>\n",
       "      <td>-0.001652</td>\n",
       "      <td>0.012658</td>\n",
       "      <td>-0.030323</td>\n",
       "    </tr>\n",
       "    <tr>\n",
       "      <th>Survived</th>\n",
       "      <td>-0.005007</td>\n",
       "      <td>1.000000</td>\n",
       "      <td>-0.338481</td>\n",
       "      <td>0.543351</td>\n",
       "      <td>-0.077221</td>\n",
       "      <td>-0.035322</td>\n",
       "      <td>0.081629</td>\n",
       "      <td>0.257307</td>\n",
       "      <td>0.101849</td>\n",
       "    </tr>\n",
       "    <tr>\n",
       "      <th>Pclass</th>\n",
       "      <td>-0.035144</td>\n",
       "      <td>-0.338481</td>\n",
       "      <td>1.000000</td>\n",
       "      <td>-0.131900</td>\n",
       "      <td>-0.369226</td>\n",
       "      <td>0.083081</td>\n",
       "      <td>0.018443</td>\n",
       "      <td>-0.549500</td>\n",
       "      <td>0.050992</td>\n",
       "    </tr>\n",
       "    <tr>\n",
       "      <th>Sex</th>\n",
       "      <td>-0.042939</td>\n",
       "      <td>0.543351</td>\n",
       "      <td>-0.131900</td>\n",
       "      <td>1.000000</td>\n",
       "      <td>-0.093254</td>\n",
       "      <td>0.114631</td>\n",
       "      <td>0.245489</td>\n",
       "      <td>0.182333</td>\n",
       "      <td>0.111249</td>\n",
       "    </tr>\n",
       "    <tr>\n",
       "      <th>Age</th>\n",
       "      <td>0.036847</td>\n",
       "      <td>-0.077221</td>\n",
       "      <td>-0.369226</td>\n",
       "      <td>-0.093254</td>\n",
       "      <td>1.000000</td>\n",
       "      <td>-0.308247</td>\n",
       "      <td>-0.189119</td>\n",
       "      <td>0.096067</td>\n",
       "      <td>0.002626</td>\n",
       "    </tr>\n",
       "    <tr>\n",
       "      <th>SibSp</th>\n",
       "      <td>-0.057527</td>\n",
       "      <td>-0.035322</td>\n",
       "      <td>0.083081</td>\n",
       "      <td>0.114631</td>\n",
       "      <td>-0.308247</td>\n",
       "      <td>1.000000</td>\n",
       "      <td>0.414838</td>\n",
       "      <td>0.159651</td>\n",
       "      <td>-0.058008</td>\n",
       "    </tr>\n",
       "    <tr>\n",
       "      <th>Parch</th>\n",
       "      <td>-0.001652</td>\n",
       "      <td>0.081629</td>\n",
       "      <td>0.018443</td>\n",
       "      <td>0.245489</td>\n",
       "      <td>-0.189119</td>\n",
       "      <td>0.414838</td>\n",
       "      <td>1.000000</td>\n",
       "      <td>0.216225</td>\n",
       "      <td>-0.076625</td>\n",
       "    </tr>\n",
       "    <tr>\n",
       "      <th>Fare</th>\n",
       "      <td>0.012658</td>\n",
       "      <td>0.257307</td>\n",
       "      <td>-0.549500</td>\n",
       "      <td>0.182333</td>\n",
       "      <td>0.096067</td>\n",
       "      <td>0.159651</td>\n",
       "      <td>0.216225</td>\n",
       "      <td>1.000000</td>\n",
       "      <td>0.058462</td>\n",
       "    </tr>\n",
       "    <tr>\n",
       "      <th>Embarked</th>\n",
       "      <td>-0.030323</td>\n",
       "      <td>0.101849</td>\n",
       "      <td>0.050992</td>\n",
       "      <td>0.111249</td>\n",
       "      <td>0.002626</td>\n",
       "      <td>-0.058008</td>\n",
       "      <td>-0.076625</td>\n",
       "      <td>0.058462</td>\n",
       "      <td>1.000000</td>\n",
       "    </tr>\n",
       "  </tbody>\n",
       "</table>\n",
       "</div>"
      ],
      "text/plain": [
       "             PassengerId  Survived    Pclass       Sex       Age     SibSp  \\\n",
       "PassengerId     1.000000 -0.005007 -0.035144 -0.042939  0.036847 -0.057527   \n",
       "Survived       -0.005007  1.000000 -0.338481  0.543351 -0.077221 -0.035322   \n",
       "Pclass         -0.035144 -0.338481  1.000000 -0.131900 -0.369226  0.083081   \n",
       "Sex            -0.042939  0.543351 -0.131900  1.000000 -0.093254  0.114631   \n",
       "Age             0.036847 -0.077221 -0.369226 -0.093254  1.000000 -0.308247   \n",
       "SibSp          -0.057527 -0.035322  0.083081  0.114631 -0.308247  1.000000   \n",
       "Parch          -0.001652  0.081629  0.018443  0.245489 -0.189119  0.414838   \n",
       "Fare            0.012658  0.257307 -0.549500  0.182333  0.096067  0.159651   \n",
       "Embarked       -0.030323  0.101849  0.050992  0.111249  0.002626 -0.058008   \n",
       "\n",
       "                Parch      Fare  Embarked  \n",
       "PassengerId -0.001652  0.012658 -0.030323  \n",
       "Survived     0.081629  0.257307  0.101849  \n",
       "Pclass       0.018443 -0.549500  0.050992  \n",
       "Sex          0.245489  0.182333  0.111249  \n",
       "Age         -0.189119  0.096067  0.002626  \n",
       "SibSp        0.414838  0.159651 -0.058008  \n",
       "Parch        1.000000  0.216225 -0.076625  \n",
       "Fare         0.216225  1.000000  0.058462  \n",
       "Embarked    -0.076625  0.058462  1.000000  "
      ]
     },
     "execution_count": 8,
     "metadata": {},
     "output_type": "execute_result"
    }
   ],
   "source": [
    "df['Sex']=pd.factorize(df['Sex'])[0]\n",
    "df.corr()"
   ]
  },
  {
   "cell_type": "code",
   "execution_count": 9,
   "id": "b376b5de",
   "metadata": {
    "execution": {
     "iopub.execute_input": "2022-03-25T15:49:10.429445Z",
     "iopub.status.busy": "2022-03-25T15:49:10.428559Z",
     "iopub.status.idle": "2022-03-25T15:49:10.432893Z",
     "shell.execute_reply": "2022-03-25T15:49:10.432394Z",
     "shell.execute_reply.started": "2022-03-25T15:15:29.076137Z"
    },
    "papermill": {
     "duration": 0.037398,
     "end_time": "2022-03-25T15:49:10.433030",
     "exception": false,
     "start_time": "2022-03-25T15:49:10.395632",
     "status": "completed"
    },
    "tags": []
   },
   "outputs": [
    {
     "data": {
      "text/plain": [
       "PassengerId      0\n",
       "Survived         0\n",
       "Pclass           0\n",
       "Name             0\n",
       "Sex              0\n",
       "Age            177\n",
       "SibSp            0\n",
       "Parch            0\n",
       "Ticket           0\n",
       "Fare             0\n",
       "Cabin          687\n",
       "Embarked         0\n",
       "dtype: int64"
      ]
     },
     "execution_count": 9,
     "metadata": {},
     "output_type": "execute_result"
    }
   ],
   "source": [
    "df.isnull().sum()"
   ]
  },
  {
   "cell_type": "code",
   "execution_count": 10,
   "id": "e55d7716",
   "metadata": {
    "execution": {
     "iopub.execute_input": "2022-03-25T15:49:10.497445Z",
     "iopub.status.busy": "2022-03-25T15:49:10.496741Z",
     "iopub.status.idle": "2022-03-25T15:49:10.500254Z",
     "shell.execute_reply": "2022-03-25T15:49:10.499766Z",
     "shell.execute_reply.started": "2022-03-25T15:36:03.289019Z"
    },
    "papermill": {
     "duration": 0.041527,
     "end_time": "2022-03-25T15:49:10.500393",
     "exception": false,
     "start_time": "2022-03-25T15:49:10.458866",
     "status": "completed"
    },
    "tags": []
   },
   "outputs": [
    {
     "data": {
      "text/html": [
       "<div>\n",
       "<style scoped>\n",
       "    .dataframe tbody tr th:only-of-type {\n",
       "        vertical-align: middle;\n",
       "    }\n",
       "\n",
       "    .dataframe tbody tr th {\n",
       "        vertical-align: top;\n",
       "    }\n",
       "\n",
       "    .dataframe thead th {\n",
       "        text-align: right;\n",
       "    }\n",
       "</style>\n",
       "<table border=\"1\" class=\"dataframe\">\n",
       "  <thead>\n",
       "    <tr style=\"text-align: right;\">\n",
       "      <th></th>\n",
       "      <th>PassengerId</th>\n",
       "      <th>Survived</th>\n",
       "      <th>Pclass</th>\n",
       "      <th>Name</th>\n",
       "      <th>Sex</th>\n",
       "      <th>Age</th>\n",
       "      <th>SibSp</th>\n",
       "      <th>Parch</th>\n",
       "      <th>Ticket</th>\n",
       "      <th>Fare</th>\n",
       "      <th>Cabin</th>\n",
       "      <th>Embarked</th>\n",
       "    </tr>\n",
       "  </thead>\n",
       "  <tbody>\n",
       "    <tr>\n",
       "      <th>0</th>\n",
       "      <td>1</td>\n",
       "      <td>0</td>\n",
       "      <td>3</td>\n",
       "      <td>Braund, Mr. Owen Harris</td>\n",
       "      <td>0</td>\n",
       "      <td>22.0</td>\n",
       "      <td>1</td>\n",
       "      <td>0</td>\n",
       "      <td>A/5 21171</td>\n",
       "      <td>7.2500</td>\n",
       "      <td>NaN</td>\n",
       "      <td>0</td>\n",
       "    </tr>\n",
       "    <tr>\n",
       "      <th>1</th>\n",
       "      <td>2</td>\n",
       "      <td>1</td>\n",
       "      <td>1</td>\n",
       "      <td>Cumings, Mrs. John Bradley (Florence Briggs Th...</td>\n",
       "      <td>1</td>\n",
       "      <td>38.0</td>\n",
       "      <td>1</td>\n",
       "      <td>0</td>\n",
       "      <td>PC 17599</td>\n",
       "      <td>71.2833</td>\n",
       "      <td>C85</td>\n",
       "      <td>1</td>\n",
       "    </tr>\n",
       "    <tr>\n",
       "      <th>2</th>\n",
       "      <td>3</td>\n",
       "      <td>1</td>\n",
       "      <td>3</td>\n",
       "      <td>Heikkinen, Miss. Laina</td>\n",
       "      <td>1</td>\n",
       "      <td>26.0</td>\n",
       "      <td>0</td>\n",
       "      <td>0</td>\n",
       "      <td>STON/O2. 3101282</td>\n",
       "      <td>7.9250</td>\n",
       "      <td>NaN</td>\n",
       "      <td>0</td>\n",
       "    </tr>\n",
       "    <tr>\n",
       "      <th>3</th>\n",
       "      <td>4</td>\n",
       "      <td>1</td>\n",
       "      <td>1</td>\n",
       "      <td>Futrelle, Mrs. Jacques Heath (Lily May Peel)</td>\n",
       "      <td>1</td>\n",
       "      <td>35.0</td>\n",
       "      <td>1</td>\n",
       "      <td>0</td>\n",
       "      <td>113803</td>\n",
       "      <td>53.1000</td>\n",
       "      <td>C123</td>\n",
       "      <td>0</td>\n",
       "    </tr>\n",
       "    <tr>\n",
       "      <th>4</th>\n",
       "      <td>5</td>\n",
       "      <td>0</td>\n",
       "      <td>3</td>\n",
       "      <td>Allen, Mr. William Henry</td>\n",
       "      <td>0</td>\n",
       "      <td>35.0</td>\n",
       "      <td>0</td>\n",
       "      <td>0</td>\n",
       "      <td>373450</td>\n",
       "      <td>8.0500</td>\n",
       "      <td>NaN</td>\n",
       "      <td>0</td>\n",
       "    </tr>\n",
       "  </tbody>\n",
       "</table>\n",
       "</div>"
      ],
      "text/plain": [
       "   PassengerId  Survived  Pclass  \\\n",
       "0            1         0       3   \n",
       "1            2         1       1   \n",
       "2            3         1       3   \n",
       "3            4         1       1   \n",
       "4            5         0       3   \n",
       "\n",
       "                                                Name  Sex   Age  SibSp  Parch  \\\n",
       "0                            Braund, Mr. Owen Harris    0  22.0      1      0   \n",
       "1  Cumings, Mrs. John Bradley (Florence Briggs Th...    1  38.0      1      0   \n",
       "2                             Heikkinen, Miss. Laina    1  26.0      0      0   \n",
       "3       Futrelle, Mrs. Jacques Heath (Lily May Peel)    1  35.0      1      0   \n",
       "4                           Allen, Mr. William Henry    0  35.0      0      0   \n",
       "\n",
       "             Ticket     Fare Cabin  Embarked  \n",
       "0         A/5 21171   7.2500   NaN         0  \n",
       "1          PC 17599  71.2833   C85         1  \n",
       "2  STON/O2. 3101282   7.9250   NaN         0  \n",
       "3            113803  53.1000  C123         0  \n",
       "4            373450   8.0500   NaN         0  "
      ]
     },
     "execution_count": 10,
     "metadata": {},
     "output_type": "execute_result"
    }
   ],
   "source": [
    "df.head()"
   ]
  },
  {
   "cell_type": "markdown",
   "id": "1a7c0b6b",
   "metadata": {
    "papermill": {
     "duration": 0.025021,
     "end_time": "2022-03-25T15:49:10.550754",
     "exception": false,
     "start_time": "2022-03-25T15:49:10.525733",
     "status": "completed"
    },
    "tags": []
   },
   "source": [
    "# Decision tree"
   ]
  },
  {
   "cell_type": "code",
   "execution_count": 11,
   "id": "566b68a9",
   "metadata": {
    "execution": {
     "iopub.execute_input": "2022-03-25T15:49:10.606458Z",
     "iopub.status.busy": "2022-03-25T15:49:10.605810Z",
     "iopub.status.idle": "2022-03-25T15:49:10.609725Z",
     "shell.execute_reply": "2022-03-25T15:49:10.609234Z",
     "shell.execute_reply.started": "2022-03-25T15:15:47.181394Z"
    },
    "papermill": {
     "duration": 0.033905,
     "end_time": "2022-03-25T15:49:10.609868",
     "exception": false,
     "start_time": "2022-03-25T15:49:10.575963",
     "status": "completed"
    },
    "tags": []
   },
   "outputs": [
    {
     "data": {
      "text/plain": [
       "Index(['PassengerId', 'Survived', 'Pclass', 'Name', 'Sex', 'Age', 'SibSp',\n",
       "       'Parch', 'Ticket', 'Fare', 'Cabin', 'Embarked'],\n",
       "      dtype='object')"
      ]
     },
     "execution_count": 11,
     "metadata": {},
     "output_type": "execute_result"
    }
   ],
   "source": [
    "df.columns"
   ]
  },
  {
   "cell_type": "code",
   "execution_count": 12,
   "id": "fbf199cf",
   "metadata": {
    "execution": {
     "iopub.execute_input": "2022-03-25T15:49:10.666437Z",
     "iopub.status.busy": "2022-03-25T15:49:10.665853Z",
     "iopub.status.idle": "2022-03-25T15:49:10.672946Z",
     "shell.execute_reply": "2022-03-25T15:49:10.672448Z",
     "shell.execute_reply.started": "2022-03-25T15:15:47.191152Z"
    },
    "papermill": {
     "duration": 0.037391,
     "end_time": "2022-03-25T15:49:10.673099",
     "exception": false,
     "start_time": "2022-03-25T15:49:10.635708",
     "status": "completed"
    },
    "tags": []
   },
   "outputs": [],
   "source": [
    "y=df['Survived']\n",
    "x=df.copy()\n",
    "x.drop(['Survived','Cabin','PassengerId','Name','Ticket','Age'],axis=1,inplace=True)\n",
    "X_train, X_test, y_train, y_test = train_test_split(x,y, test_size=0.1, random_state=42)"
   ]
  },
  {
   "cell_type": "code",
   "execution_count": 13,
   "id": "e0045612",
   "metadata": {
    "execution": {
     "iopub.execute_input": "2022-03-25T15:49:10.731170Z",
     "iopub.status.busy": "2022-03-25T15:49:10.730562Z",
     "iopub.status.idle": "2022-03-25T15:49:10.738824Z",
     "shell.execute_reply": "2022-03-25T15:49:10.738256Z",
     "shell.execute_reply.started": "2022-03-25T15:28:20.591005Z"
    },
    "papermill": {
     "duration": 0.040187,
     "end_time": "2022-03-25T15:49:10.738955",
     "exception": false,
     "start_time": "2022-03-25T15:49:10.698768",
     "status": "completed"
    },
    "tags": []
   },
   "outputs": [
    {
     "data": {
      "text/plain": [
       "83.33333333333334"
      ]
     },
     "execution_count": 13,
     "metadata": {},
     "output_type": "execute_result"
    }
   ],
   "source": [
    "clf = tree.DecisionTreeClassifier(criterion='entropy',max_depth=5)\n",
    "clf = clf.fit(X_train, y_train)\n",
    "prediction=clf.predict(X_test)\n",
    "accuracy_score(prediction,y_test)*100"
   ]
  },
  {
   "cell_type": "code",
   "execution_count": 14,
   "id": "38fdf65c",
   "metadata": {
    "execution": {
     "iopub.execute_input": "2022-03-25T15:49:10.796978Z",
     "iopub.status.busy": "2022-03-25T15:49:10.796003Z",
     "iopub.status.idle": "2022-03-25T15:49:13.534849Z",
     "shell.execute_reply": "2022-03-25T15:49:13.535322Z",
     "shell.execute_reply.started": "2022-03-25T15:31:04.285582Z"
    },
    "papermill": {
     "duration": 2.770974,
     "end_time": "2022-03-25T15:49:13.535503",
     "exception": false,
     "start_time": "2022-03-25T15:49:10.764529",
     "status": "completed"
    },
    "tags": []
   },
   "outputs": [
    {
     "data": {
      "image/png": "[encoded data removed]",
      "text/plain": [
       "<Figure size 1440x1440 with 1 Axes>"
      ]
     },
     "metadata": {
      "needs_background": "light"
     },
     "output_type": "display_data"
    }
   ],
   "source": [
    "from matplotlib import pyplot as plt\n",
    "fig = plt.figure(figsize=(20,20))\n",
    "_ = tree.plot_tree(clf, \n",
    "                   feature_names=X_train.columns,  \n",
    "                   class_names=['F','T'],\n",
    "                   filled=True)"
   ]
  },
  {
   "cell_type": "code",
   "execution_count": null,
   "id": "b44a3f46",
   "metadata": {
    "papermill": {
     "duration": 0.02992,
     "end_time": "2022-03-25T15:49:13.598588",
     "exception": false,
     "start_time": "2022-03-25T15:49:13.568668",
     "status": "completed"
    },
    "tags": []
   },
   "outputs": [],
   "source": []
  },
  {
   "cell_type": "markdown",
   "id": "c59e9415",
   "metadata": {
    "papermill": {
     "duration": 0.030011,
     "end_time": "2022-03-25T15:49:13.658702",
     "exception": false,
     "start_time": "2022-03-25T15:49:13.628691",
     "status": "completed"
    },
    "tags": []
   },
   "source": [
    "# Test set prediction"
   ]
  },
  {
   "cell_type": "code",
   "execution_count": 15,
   "id": "7a42ab39",
   "metadata": {
    "execution": {
     "iopub.execute_input": "2022-03-25T15:49:13.725949Z",
     "iopub.status.busy": "2022-03-25T15:49:13.725219Z",
     "iopub.status.idle": "2022-03-25T15:49:13.734647Z",
     "shell.execute_reply": "2022-03-25T15:49:13.735129Z",
     "shell.execute_reply.started": "2022-03-25T15:34:03.153204Z"
    },
    "papermill": {
     "duration": 0.045357,
     "end_time": "2022-03-25T15:49:13.735307",
     "exception": false,
     "start_time": "2022-03-25T15:49:13.689950",
     "status": "completed"
    },
    "tags": []
   },
   "outputs": [],
   "source": [
    "test_df=pd.read_csv('/kaggle/input/titanic/test.csv')"
   ]
  },
  {
   "cell_type": "code",
   "execution_count": 16,
   "id": "370aeef5",
   "metadata": {
    "execution": {
     "iopub.execute_input": "2022-03-25T15:49:13.799393Z",
     "iopub.status.busy": "2022-03-25T15:49:13.798794Z",
     "iopub.status.idle": "2022-03-25T15:49:13.803611Z",
     "shell.execute_reply": "2022-03-25T15:49:13.804150Z",
     "shell.execute_reply.started": "2022-03-25T15:34:23.312561Z"
    },
    "papermill": {
     "duration": 0.038245,
     "end_time": "2022-03-25T15:49:13.804312",
     "exception": false,
     "start_time": "2022-03-25T15:49:13.766067",
     "status": "completed"
    },
    "tags": []
   },
   "outputs": [
    {
     "data": {
      "text/plain": [
       "Index(['PassengerId', 'Pclass', 'Name', 'Sex', 'Age', 'SibSp', 'Parch',\n",
       "       'Ticket', 'Fare', 'Cabin', 'Embarked'],\n",
       "      dtype='object')"
      ]
     },
     "execution_count": 16,
     "metadata": {},
     "output_type": "execute_result"
    }
   ],
   "source": [
    "test_df.columns"
   ]
  },
  {
   "cell_type": "code",
   "execution_count": 17,
   "id": "8fea3c55",
   "metadata": {
    "execution": {
     "iopub.execute_input": "2022-03-25T15:49:13.869318Z",
     "iopub.status.busy": "2022-03-25T15:49:13.868715Z",
     "iopub.status.idle": "2022-03-25T15:49:13.873638Z",
     "shell.execute_reply": "2022-03-25T15:49:13.874151Z",
     "shell.execute_reply.started": "2022-03-25T15:35:05.488374Z"
    },
    "papermill": {
     "duration": 0.039303,
     "end_time": "2022-03-25T15:49:13.874328",
     "exception": false,
     "start_time": "2022-03-25T15:49:13.835025",
     "status": "completed"
    },
    "tags": []
   },
   "outputs": [],
   "source": [
    "test_df.drop(['Cabin','PassengerId','Name','Ticket','Age'],axis=1,inplace=True)"
   ]
  },
  {
   "cell_type": "code",
   "execution_count": 18,
   "id": "7351acc3",
   "metadata": {
    "execution": {
     "iopub.execute_input": "2022-03-25T15:49:13.941360Z",
     "iopub.status.busy": "2022-03-25T15:49:13.940754Z",
     "iopub.status.idle": "2022-03-25T15:49:13.948642Z",
     "shell.execute_reply": "2022-03-25T15:49:13.949113Z",
     "shell.execute_reply.started": "2022-03-25T15:35:43.214801Z"
    },
    "papermill": {
     "duration": 0.043892,
     "end_time": "2022-03-25T15:49:13.949288",
     "exception": false,
     "start_time": "2022-03-25T15:49:13.905396",
     "status": "completed"
    },
    "tags": []
   },
   "outputs": [
    {
     "data": {
      "text/html": [
       "<div>\n",
       "<style scoped>\n",
       "    .dataframe tbody tr th:only-of-type {\n",
       "        vertical-align: middle;\n",
       "    }\n",
       "\n",
       "    .dataframe tbody tr th {\n",
       "        vertical-align: top;\n",
       "    }\n",
       "\n",
       "    .dataframe thead th {\n",
       "        text-align: right;\n",
       "    }\n",
       "</style>\n",
       "<table border=\"1\" class=\"dataframe\">\n",
       "  <thead>\n",
       "    <tr style=\"text-align: right;\">\n",
       "      <th></th>\n",
       "      <th>Pclass</th>\n",
       "      <th>Sex</th>\n",
       "      <th>SibSp</th>\n",
       "      <th>Parch</th>\n",
       "      <th>Fare</th>\n",
       "      <th>Embarked</th>\n",
       "    </tr>\n",
       "  </thead>\n",
       "  <tbody>\n",
       "    <tr>\n",
       "      <th>0</th>\n",
       "      <td>3</td>\n",
       "      <td>male</td>\n",
       "      <td>0</td>\n",
       "      <td>0</td>\n",
       "      <td>7.8292</td>\n",
       "      <td>Q</td>\n",
       "    </tr>\n",
       "    <tr>\n",
       "      <th>1</th>\n",
       "      <td>3</td>\n",
       "      <td>female</td>\n",
       "      <td>1</td>\n",
       "      <td>0</td>\n",
       "      <td>7.0000</td>\n",
       "      <td>S</td>\n",
       "    </tr>\n",
       "    <tr>\n",
       "      <th>2</th>\n",
       "      <td>2</td>\n",
       "      <td>male</td>\n",
       "      <td>0</td>\n",
       "      <td>0</td>\n",
       "      <td>9.6875</td>\n",
       "      <td>Q</td>\n",
       "    </tr>\n",
       "    <tr>\n",
       "      <th>3</th>\n",
       "      <td>3</td>\n",
       "      <td>male</td>\n",
       "      <td>0</td>\n",
       "      <td>0</td>\n",
       "      <td>8.6625</td>\n",
       "      <td>S</td>\n",
       "    </tr>\n",
       "    <tr>\n",
       "      <th>4</th>\n",
       "      <td>3</td>\n",
       "      <td>female</td>\n",
       "      <td>1</td>\n",
       "      <td>1</td>\n",
       "      <td>12.2875</td>\n",
       "      <td>S</td>\n",
       "    </tr>\n",
       "  </tbody>\n",
       "</table>\n",
       "</div>"
      ],
      "text/plain": [
       "   Pclass     Sex  SibSp  Parch     Fare Embarked\n",
       "0       3    male      0      0   7.8292        Q\n",
       "1       3  female      1      0   7.0000        S\n",
       "2       2    male      0      0   9.6875        Q\n",
       "3       3    male      0      0   8.6625        S\n",
       "4       3  female      1      1  12.2875        S"
      ]
     },
     "execution_count": 18,
     "metadata": {},
     "output_type": "execute_result"
    }
   ],
   "source": [
    "test_df.head()"
   ]
  },
  {
   "cell_type": "code",
   "execution_count": 19,
   "id": "7b146cfe",
   "metadata": {
    "execution": {
     "iopub.execute_input": "2022-03-25T15:49:14.014275Z",
     "iopub.status.busy": "2022-03-25T15:49:14.013665Z",
     "iopub.status.idle": "2022-03-25T15:49:14.018776Z",
     "shell.execute_reply": "2022-03-25T15:49:14.019236Z",
     "shell.execute_reply.started": "2022-03-25T15:37:19.690692Z"
    },
    "papermill": {
     "duration": 0.039379,
     "end_time": "2022-03-25T15:49:14.019403",
     "exception": false,
     "start_time": "2022-03-25T15:49:13.980024",
     "status": "completed"
    },
    "tags": []
   },
   "outputs": [],
   "source": [
    "test_df['Embarked']=pd.factorize(test_df['Embarked'])[0]\n",
    "test_df['Sex']=pd.factorize(test_df['Sex'])[0]"
   ]
  },
  {
   "cell_type": "code",
   "execution_count": null,
   "id": "ce036948",
   "metadata": {
    "execution": {
     "iopub.execute_input": "2022-03-25T15:37:50.602196Z",
     "iopub.status.busy": "2022-03-25T15:37:50.601909Z",
     "iopub.status.idle": "2022-03-25T15:37:50.610336Z",
     "shell.execute_reply": "2022-03-25T15:37:50.609680Z",
     "shell.execute_reply.started": "2022-03-25T15:37:50.602166Z"
    },
    "papermill": {
     "duration": 0.031185,
     "end_time": "2022-03-25T15:49:14.081462",
     "exception": false,
     "start_time": "2022-03-25T15:49:14.050277",
     "status": "completed"
    },
    "tags": []
   },
   "outputs": [],
   "source": []
  },
  {
   "cell_type": "code",
   "execution_count": null,
   "id": "094ad70f",
   "metadata": {
    "papermill": {
     "duration": 0.030665,
     "end_time": "2022-03-25T15:49:14.143364",
     "exception": false,
     "start_time": "2022-03-25T15:49:14.112699",
     "status": "completed"
    },
    "tags": []
   },
   "outputs": [],
   "source": []
  }
 ],
 "metadata": {
  "kernelspec": {
   "display_name": "Python 3",
   "language": "python",
   "name": "python3"
  },
  "language_info": {
   "codemirror_mode": {
    "name": "ipython",
    "version": 3
   },
   "file_extension": ".py",
   "mimetype": "text/x-python",
   "name": "python",
   "nbconvert_exporter": "python",
   "pygments_lexer": "ipython3",
   "version": "3.7.12"
  },
  "papermill": {
   "default_parameters": {},
   "duration": 25.945179,
   "end_time": "2022-03-25T15:49:14.885041",
   "environment_variables": {},
   "exception": null,
   "input_path": "__notebook__.ipynb",
   "output_path": "__notebook__.ipynb",
   "parameters": {},
   "start_time": "2022-03-25T15:48:48.939862",
   "version": "2.3.3"
  }
 },
 "nbformat": 4,
 "nbformat_minor": 5
}
